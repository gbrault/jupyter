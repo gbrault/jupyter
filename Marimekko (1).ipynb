{
 "cells": [
  {
   "cell_type": "markdown",
   "metadata": {},
   "source": [
    "# Marimekko from Excel"
   ]
  },
  {
   "cell_type": "markdown",
   "metadata": {},
   "source": [
    "This notebook is transforming an excel market share table for products in a marimekko graphic (aka mosaic graphic).\n",
    "\n",
    "According to [Wikipedia](https://en.wikipedia.org/wiki/Marimekko#Marimekko_chart)\n",
    "\n",
    "The Marimekko name has been adopted within business and the management consultancy industry to refer to a specific type of bar chart known as a variable-width chart or Mosaic plot in which all the bars are of equal height, there are no spaces between the bars, and the bars are in turn each divided into segments of different width. The design of the mosaic plot resembles a Marimekko print. The chart's design encodes two variables (such as percentage of sales and market share), but it is criticised for making the data hard to perceive and to compare visually. The Marimekko has a sister chart called the Bar Mekko in which the bars are of variable height and width.\n",
    "\n",
    "Depending on the input data format, some tweaks might be needed.\n",
    "The process described here is for an excel file providing market absolute values per competitor and per product lines.\n",
    "\n",
    "**The data used in this example is fake**"
   ]
  },
  {
   "cell_type": "markdown",
   "metadata": {},
   "source": [
    "## Loading Libraries"
   ]
  },
  {
   "cell_type": "markdown",
   "metadata": {},
   "source": [
    "pandas version must be latter than 0.20.0"
   ]
  },
  {
   "cell_type": "code",
   "execution_count": 1,
   "metadata": {},
   "outputs": [],
   "source": [
    "import pandas as pd\n",
    "import matplotlib.pyplot as plt\n",
    "import matplotlib.patches as patches\n",
    "from matplotlib.offsetbox import (TextArea, AnnotationBbox)"
   ]
  },
  {
   "cell_type": "code",
   "execution_count": 2,
   "metadata": {},
   "outputs": [
    {
     "name": "stdout",
     "output_type": "stream",
     "text": [
      "0.25.0\n"
     ]
    }
   ],
   "source": [
    "print (pd.__version__)"
   ]
  },
  {
   "cell_type": "markdown",
   "metadata": {},
   "source": [
    "# Preparing data"
   ]
  },
  {
   "cell_type": "markdown",
   "metadata": {},
   "source": [
    "## Reading the excel spreadsheet\n",
    "- Format: a simple table where first column is Competitor Name and next columns are Products Revenues\n",
    "- First row is column headings"
   ]
  },
  {
   "cell_type": "code",
   "execution_count": 3,
   "metadata": {},
   "outputs": [],
   "source": [
    "# the file named \"data.xlsx\" is expected to be uploaded in the notebook directory\n",
    "# make the appropriate changes if this is not the case\n",
    "df = pd.read_excel(\"data.xlsx\")"
   ]
  },
  {
   "cell_type": "code",
   "execution_count": 4,
   "metadata": {},
   "outputs": [
    {
     "data": {
      "text/html": [
       "<div>\n",
       "<style scoped>\n",
       "    .dataframe tbody tr th:only-of-type {\n",
       "        vertical-align: middle;\n",
       "    }\n",
       "\n",
       "    .dataframe tbody tr th {\n",
       "        vertical-align: top;\n",
       "    }\n",
       "\n",
       "    .dataframe thead th {\n",
       "        text-align: right;\n",
       "    }\n",
       "</style>\n",
       "<table border=\"1\" class=\"dataframe\">\n",
       "  <thead>\n",
       "    <tr style=\"text-align: right;\">\n",
       "      <th></th>\n",
       "      <th>Competitor</th>\n",
       "      <th>01- DCS</th>\n",
       "      <th>03-2 PLC</th>\n",
       "      <th>04- C&amp;S + Safety</th>\n",
       "      <th>02-2 Drives LV</th>\n",
       "      <th>02-1 Motor Starters &amp; Contactors</th>\n",
       "      <th>02-3 Motion</th>\n",
       "      <th>03-3 CNC</th>\n",
       "      <th>01- Control Valves</th>\n",
       "      <th>04- Sensors</th>\n",
       "      <th>01- Instruments</th>\n",
       "      <th>03-1 OP &amp; IPC</th>\n",
       "      <th>01- Analyzers</th>\n",
       "      <th>02-2 Drives MV</th>\n",
       "      <th>01- Safety Systems</th>\n",
       "      <th>03-3 Vision</th>\n",
       "    </tr>\n",
       "  </thead>\n",
       "  <tbody>\n",
       "    <tr>\n",
       "      <th>0</th>\n",
       "      <td>Turck</td>\n",
       "      <td>2096.655000</td>\n",
       "      <td>3479.765140</td>\n",
       "      <td>739.597707</td>\n",
       "      <td>1306.214286</td>\n",
       "      <td>1732.807500</td>\n",
       "      <td>626.370000</td>\n",
       "      <td>2105</td>\n",
       "      <td>88.000000</td>\n",
       "      <td>53.84955</td>\n",
       "      <td>255.961458</td>\n",
       "      <td>761.595000</td>\n",
       "      <td>75.325850</td>\n",
       "      <td>300.360220</td>\n",
       "      <td>144.100000</td>\n",
       "      <td>12</td>\n",
       "    </tr>\n",
       "    <tr>\n",
       "      <th>1</th>\n",
       "      <td>Heidenhain</td>\n",
       "      <td>896.071605</td>\n",
       "      <td>1042.708610</td>\n",
       "      <td>525.315341</td>\n",
       "      <td>576.744149</td>\n",
       "      <td>1747.106782</td>\n",
       "      <td>264.824194</td>\n",
       "      <td>0</td>\n",
       "      <td>20.000000</td>\n",
       "      <td>128.10957</td>\n",
       "      <td>88.950000</td>\n",
       "      <td>315.365346</td>\n",
       "      <td>17.000000</td>\n",
       "      <td>139.215120</td>\n",
       "      <td>434.214000</td>\n",
       "      <td>0</td>\n",
       "    </tr>\n",
       "    <tr>\n",
       "      <th>2</th>\n",
       "      <td>M-System</td>\n",
       "      <td>2647.188914</td>\n",
       "      <td>244.125339</td>\n",
       "      <td>334.542964</td>\n",
       "      <td>1937.182431</td>\n",
       "      <td>1366.234254</td>\n",
       "      <td>36.206895</td>\n",
       "      <td>0</td>\n",
       "      <td>22.520548</td>\n",
       "      <td>0.00000</td>\n",
       "      <td>363.340000</td>\n",
       "      <td>17.395233</td>\n",
       "      <td>125.937107</td>\n",
       "      <td>549.145320</td>\n",
       "      <td>209.210000</td>\n",
       "      <td>0</td>\n",
       "    </tr>\n",
       "    <tr>\n",
       "      <th>3</th>\n",
       "      <td>Hyosung Power and Industrial S</td>\n",
       "      <td>427.504641</td>\n",
       "      <td>2792.306143</td>\n",
       "      <td>595.818740</td>\n",
       "      <td>1117.427569</td>\n",
       "      <td>645.193950</td>\n",
       "      <td>575.100000</td>\n",
       "      <td>0</td>\n",
       "      <td>0.000000</td>\n",
       "      <td>96.87260</td>\n",
       "      <td>0.000000</td>\n",
       "      <td>306.571934</td>\n",
       "      <td>0.000000</td>\n",
       "      <td>364.111764</td>\n",
       "      <td>221.253389</td>\n",
       "      <td>0</td>\n",
       "    </tr>\n",
       "    <tr>\n",
       "      <th>4</th>\n",
       "      <td>Yokogawa</td>\n",
       "      <td>0.000000</td>\n",
       "      <td>472.400464</td>\n",
       "      <td>38.043350</td>\n",
       "      <td>0.000000</td>\n",
       "      <td>0.000000</td>\n",
       "      <td>152.727647</td>\n",
       "      <td>0</td>\n",
       "      <td>0.000000</td>\n",
       "      <td>0.00000</td>\n",
       "      <td>0.000000</td>\n",
       "      <td>222.148005</td>\n",
       "      <td>0.000000</td>\n",
       "      <td>0.000000</td>\n",
       "      <td>0.000000</td>\n",
       "      <td>0</td>\n",
       "    </tr>\n",
       "  </tbody>\n",
       "</table>\n",
       "</div>"
      ],
      "text/plain": [
       "                       Competitor      01- DCS     03-2 PLC  04- C&S + Safety  \\\n",
       "0                           Turck  2096.655000  3479.765140        739.597707   \n",
       "1                      Heidenhain   896.071605  1042.708610        525.315341   \n",
       "2                        M-System  2647.188914   244.125339        334.542964   \n",
       "3  Hyosung Power and Industrial S   427.504641  2792.306143        595.818740   \n",
       "4                        Yokogawa     0.000000   472.400464         38.043350   \n",
       "\n",
       "   02-2 Drives LV  02-1 Motor Starters & Contactors  02-3 Motion  03-3 CNC  \\\n",
       "0     1306.214286                       1732.807500   626.370000      2105   \n",
       "1      576.744149                       1747.106782   264.824194         0   \n",
       "2     1937.182431                       1366.234254    36.206895         0   \n",
       "3     1117.427569                        645.193950   575.100000         0   \n",
       "4        0.000000                          0.000000   152.727647         0   \n",
       "\n",
       "   01- Control Valves  04- Sensors  01- Instruments  03-1 OP & IPC  \\\n",
       "0           88.000000     53.84955       255.961458     761.595000   \n",
       "1           20.000000    128.10957        88.950000     315.365346   \n",
       "2           22.520548      0.00000       363.340000      17.395233   \n",
       "3            0.000000     96.87260         0.000000     306.571934   \n",
       "4            0.000000      0.00000         0.000000     222.148005   \n",
       "\n",
       "   01- Analyzers  02-2 Drives MV  01- Safety Systems  03-3 Vision  \n",
       "0      75.325850      300.360220          144.100000           12  \n",
       "1      17.000000      139.215120          434.214000            0  \n",
       "2     125.937107      549.145320          209.210000            0  \n",
       "3       0.000000      364.111764          221.253389            0  \n",
       "4       0.000000        0.000000            0.000000            0  "
      ]
     },
     "execution_count": 4,
     "metadata": {},
     "output_type": "execute_result"
    }
   ],
   "source": [
    "df.head()"
   ]
  },
  {
   "cell_type": "markdown",
   "metadata": {},
   "source": [
    "## Reorganize the table as a list\n",
    "- Unpivot table\n",
    "- suppress zero values"
   ]
  },
  {
   "cell_type": "code",
   "execution_count": 5,
   "metadata": {},
   "outputs": [],
   "source": [
    "dfu = df.melt(id_vars=['Competitor'],var_name='Product',value_name='Share')"
   ]
  },
  {
   "cell_type": "code",
   "execution_count": 6,
   "metadata": {},
   "outputs": [],
   "source": [
    "dfu=dfu[dfu['Share']!=0]"
   ]
  },
  {
   "cell_type": "code",
   "execution_count": 7,
   "metadata": {},
   "outputs": [
    {
     "data": {
      "text/html": [
       "<div>\n",
       "<style scoped>\n",
       "    .dataframe tbody tr th:only-of-type {\n",
       "        vertical-align: middle;\n",
       "    }\n",
       "\n",
       "    .dataframe tbody tr th {\n",
       "        vertical-align: top;\n",
       "    }\n",
       "\n",
       "    .dataframe thead th {\n",
       "        text-align: right;\n",
       "    }\n",
       "</style>\n",
       "<table border=\"1\" class=\"dataframe\">\n",
       "  <thead>\n",
       "    <tr style=\"text-align: right;\">\n",
       "      <th></th>\n",
       "      <th>Competitor</th>\n",
       "      <th>Product</th>\n",
       "      <th>Share</th>\n",
       "    </tr>\n",
       "  </thead>\n",
       "  <tbody>\n",
       "    <tr>\n",
       "      <th>0</th>\n",
       "      <td>Turck</td>\n",
       "      <td>01- DCS</td>\n",
       "      <td>2096.655000</td>\n",
       "    </tr>\n",
       "    <tr>\n",
       "      <th>1</th>\n",
       "      <td>Heidenhain</td>\n",
       "      <td>01- DCS</td>\n",
       "      <td>896.071605</td>\n",
       "    </tr>\n",
       "    <tr>\n",
       "      <th>2</th>\n",
       "      <td>M-System</td>\n",
       "      <td>01- DCS</td>\n",
       "      <td>2647.188914</td>\n",
       "    </tr>\n",
       "    <tr>\n",
       "      <th>3</th>\n",
       "      <td>Hyosung Power and Industrial S</td>\n",
       "      <td>01- DCS</td>\n",
       "      <td>427.504641</td>\n",
       "    </tr>\n",
       "    <tr>\n",
       "      <th>6</th>\n",
       "      <td>Omron</td>\n",
       "      <td>01- DCS</td>\n",
       "      <td>1497.408000</td>\n",
       "    </tr>\n",
       "  </tbody>\n",
       "</table>\n",
       "</div>"
      ],
      "text/plain": [
       "                       Competitor  Product        Share\n",
       "0                           Turck  01- DCS  2096.655000\n",
       "1                      Heidenhain  01- DCS   896.071605\n",
       "2                        M-System  01- DCS  2647.188914\n",
       "3  Hyosung Power and Industrial S  01- DCS   427.504641\n",
       "6                           Omron  01- DCS  1497.408000"
      ]
     },
     "execution_count": 7,
     "metadata": {},
     "output_type": "execute_result"
    }
   ],
   "source": [
    "dfu.head()"
   ]
  },
  {
   "cell_type": "markdown",
   "metadata": {},
   "source": [
    "## Create the markets dataFrame\n",
    "- the Share column is the total value\n",
    "- the Product is the index\n",
    "- pMarkets is the relative size dataFrame of the market in ascending order\n",
    "- pMarkets sum of all Share is 1\n",
    "- pMarkets Share represent the % of Marimekko height"
   ]
  },
  {
   "cell_type": "code",
   "execution_count": 8,
   "metadata": {},
   "outputs": [],
   "source": [
    "markets = dfu.groupby('Product').sum()"
   ]
  },
  {
   "cell_type": "code",
   "execution_count": 9,
   "metadata": {},
   "outputs": [
    {
     "data": {
      "text/html": [
       "<div>\n",
       "<style scoped>\n",
       "    .dataframe tbody tr th:only-of-type {\n",
       "        vertical-align: middle;\n",
       "    }\n",
       "\n",
       "    .dataframe tbody tr th {\n",
       "        vertical-align: top;\n",
       "    }\n",
       "\n",
       "    .dataframe thead th {\n",
       "        text-align: right;\n",
       "    }\n",
       "</style>\n",
       "<table border=\"1\" class=\"dataframe\">\n",
       "  <thead>\n",
       "    <tr style=\"text-align: right;\">\n",
       "      <th></th>\n",
       "      <th>Share</th>\n",
       "    </tr>\n",
       "    <tr>\n",
       "      <th>Product</th>\n",
       "      <th></th>\n",
       "    </tr>\n",
       "  </thead>\n",
       "  <tbody>\n",
       "    <tr>\n",
       "      <th>01- Analyzers</th>\n",
       "      <td>3742.423560</td>\n",
       "    </tr>\n",
       "    <tr>\n",
       "      <th>01- Control Valves</th>\n",
       "      <td>6391.204153</td>\n",
       "    </tr>\n",
       "    <tr>\n",
       "      <th>01- DCS</th>\n",
       "      <td>13521.007658</td>\n",
       "    </tr>\n",
       "    <tr>\n",
       "      <th>01- Instruments</th>\n",
       "      <td>5588.124370</td>\n",
       "    </tr>\n",
       "    <tr>\n",
       "      <th>01- Safety Systems</th>\n",
       "      <td>2371.702321</td>\n",
       "    </tr>\n",
       "  </tbody>\n",
       "</table>\n",
       "</div>"
      ],
      "text/plain": [
       "                           Share\n",
       "Product                         \n",
       "01- Analyzers        3742.423560\n",
       "01- Control Valves   6391.204153\n",
       "01- DCS             13521.007658\n",
       "01- Instruments      5588.124370\n",
       "01- Safety Systems   2371.702321"
      ]
     },
     "execution_count": 9,
     "metadata": {},
     "output_type": "execute_result"
    }
   ],
   "source": [
    "markets.head()"
   ]
  },
  {
   "cell_type": "code",
   "execution_count": 10,
   "metadata": {},
   "outputs": [],
   "source": [
    "smarkets = markets.sort_values(by=['Share'],ascending=True)\n",
    "marketsize = smarkets.sum()\n",
    "pMarkets = smarkets/ marketsize"
   ]
  },
  {
   "cell_type": "code",
   "execution_count": 11,
   "metadata": {},
   "outputs": [
    {
     "data": {
      "text/plain": [
       "Share    104991.775071\n",
       "dtype: float64"
      ]
     },
     "execution_count": 11,
     "metadata": {},
     "output_type": "execute_result"
    }
   ],
   "source": [
    "marketsize"
   ]
  },
  {
   "cell_type": "markdown",
   "metadata": {},
   "source": [
    "- pMarket holds the relative size \\[0,1\\] of a given market \n",
    "- marketsize is the total market value = sum of all cells"
   ]
  },
  {
   "cell_type": "code",
   "execution_count": 12,
   "metadata": {},
   "outputs": [
    {
     "data": {
      "text/html": [
       "<div>\n",
       "<style scoped>\n",
       "    .dataframe tbody tr th:only-of-type {\n",
       "        vertical-align: middle;\n",
       "    }\n",
       "\n",
       "    .dataframe tbody tr th {\n",
       "        vertical-align: top;\n",
       "    }\n",
       "\n",
       "    .dataframe thead th {\n",
       "        text-align: right;\n",
       "    }\n",
       "</style>\n",
       "<table border=\"1\" class=\"dataframe\">\n",
       "  <thead>\n",
       "    <tr style=\"text-align: right;\">\n",
       "      <th></th>\n",
       "      <th>Share</th>\n",
       "    </tr>\n",
       "    <tr>\n",
       "      <th>Product</th>\n",
       "      <th></th>\n",
       "    </tr>\n",
       "  </thead>\n",
       "  <tbody>\n",
       "    <tr>\n",
       "      <th>03-3 Vision</th>\n",
       "      <td>0.017744</td>\n",
       "    </tr>\n",
       "    <tr>\n",
       "      <th>01- Safety Systems</th>\n",
       "      <td>0.022589</td>\n",
       "    </tr>\n",
       "    <tr>\n",
       "      <th>02-2 Drives MV</th>\n",
       "      <td>0.027035</td>\n",
       "    </tr>\n",
       "    <tr>\n",
       "      <th>01- Analyzers</th>\n",
       "      <td>0.035645</td>\n",
       "    </tr>\n",
       "    <tr>\n",
       "      <th>03-1 OP &amp; IPC</th>\n",
       "      <td>0.042742</td>\n",
       "    </tr>\n",
       "  </tbody>\n",
       "</table>\n",
       "</div>"
      ],
      "text/plain": [
       "                       Share\n",
       "Product                     \n",
       "03-3 Vision         0.017744\n",
       "01- Safety Systems  0.022589\n",
       "02-2 Drives MV      0.027035\n",
       "01- Analyzers       0.035645\n",
       "03-1 OP & IPC       0.042742"
      ]
     },
     "execution_count": 12,
     "metadata": {},
     "output_type": "execute_result"
    }
   ],
   "source": [
    "pMarkets.head()"
   ]
  },
  {
   "cell_type": "markdown",
   "metadata": {},
   "source": [
    "## Create and process the \"Competitor\", \"Product\" classification Dataframe"
   ]
  },
  {
   "cell_type": "code",
   "execution_count": 13,
   "metadata": {},
   "outputs": [],
   "source": [
    "cp= dfu.groupby(['Competitor','Product']).agg({'Share': 'sum'})"
   ]
  },
  {
   "cell_type": "code",
   "execution_count": 14,
   "metadata": {},
   "outputs": [
    {
     "data": {
      "text/html": [
       "<div>\n",
       "<style scoped>\n",
       "    .dataframe tbody tr th:only-of-type {\n",
       "        vertical-align: middle;\n",
       "    }\n",
       "\n",
       "    .dataframe tbody tr th {\n",
       "        vertical-align: top;\n",
       "    }\n",
       "\n",
       "    .dataframe thead th {\n",
       "        text-align: right;\n",
       "    }\n",
       "</style>\n",
       "<table border=\"1\" class=\"dataframe\">\n",
       "  <thead>\n",
       "    <tr style=\"text-align: right;\">\n",
       "      <th></th>\n",
       "      <th></th>\n",
       "      <th>Share</th>\n",
       "    </tr>\n",
       "    <tr>\n",
       "      <th>Competitor</th>\n",
       "      <th>Product</th>\n",
       "      <th></th>\n",
       "    </tr>\n",
       "  </thead>\n",
       "  <tbody>\n",
       "    <tr>\n",
       "      <th rowspan=\"5\" valign=\"top\">ABB</th>\n",
       "      <th>02-1 Motor Starters &amp; Contactors</th>\n",
       "      <td>415.130598</td>\n",
       "    </tr>\n",
       "    <tr>\n",
       "      <th>02-2 Drives LV</th>\n",
       "      <td>600.815056</td>\n",
       "    </tr>\n",
       "    <tr>\n",
       "      <th>02-3 Motion</th>\n",
       "      <td>688.874676</td>\n",
       "    </tr>\n",
       "    <tr>\n",
       "      <th>03-1 OP &amp; IPC</th>\n",
       "      <td>218.548738</td>\n",
       "    </tr>\n",
       "    <tr>\n",
       "      <th>03-2 PLC</th>\n",
       "      <td>1237.675319</td>\n",
       "    </tr>\n",
       "  </tbody>\n",
       "</table>\n",
       "</div>"
      ],
      "text/plain": [
       "                                                   Share\n",
       "Competitor Product                                      \n",
       "ABB        02-1 Motor Starters & Contactors   415.130598\n",
       "           02-2 Drives LV                     600.815056\n",
       "           02-3 Motion                        688.874676\n",
       "           03-1 OP & IPC                      218.548738\n",
       "           03-2 PLC                          1237.675319"
      ]
     },
     "execution_count": 14,
     "metadata": {},
     "output_type": "execute_result"
    }
   ],
   "source": [
    "cp.head()"
   ]
  },
  {
   "cell_type": "markdown",
   "metadata": {},
   "source": [
    "Transform into relative data \\[0,1\\] into the cpp dataFrame"
   ]
  },
  {
   "cell_type": "code",
   "execution_count": 15,
   "metadata": {},
   "outputs": [],
   "source": [
    "# level=1 means grouping according to products\n",
    "cpp = cp.groupby(level=1).apply(lambda x: x / float(x.sum()))"
   ]
  },
  {
   "cell_type": "markdown",
   "metadata": {},
   "source": [
    "## Overview of some results"
   ]
  },
  {
   "cell_type": "code",
   "execution_count": 16,
   "metadata": {},
   "outputs": [
    {
     "data": {
      "text/html": [
       "<div>\n",
       "<style scoped>\n",
       "    .dataframe tbody tr th:only-of-type {\n",
       "        vertical-align: middle;\n",
       "    }\n",
       "\n",
       "    .dataframe tbody tr th {\n",
       "        vertical-align: top;\n",
       "    }\n",
       "\n",
       "    .dataframe thead th {\n",
       "        text-align: right;\n",
       "    }\n",
       "</style>\n",
       "<table border=\"1\" class=\"dataframe\">\n",
       "  <thead>\n",
       "    <tr style=\"text-align: right;\">\n",
       "      <th></th>\n",
       "      <th>Share</th>\n",
       "    </tr>\n",
       "    <tr>\n",
       "      <th>Product</th>\n",
       "      <th></th>\n",
       "    </tr>\n",
       "  </thead>\n",
       "  <tbody>\n",
       "    <tr>\n",
       "      <th>02-1 Motor Starters &amp; Contactors</th>\n",
       "      <td>0.043126</td>\n",
       "    </tr>\n",
       "    <tr>\n",
       "      <th>02-2 Drives LV</th>\n",
       "      <td>0.055345</td>\n",
       "    </tr>\n",
       "    <tr>\n",
       "      <th>02-3 Motion</th>\n",
       "      <td>0.096426</td>\n",
       "    </tr>\n",
       "    <tr>\n",
       "      <th>03-1 OP &amp; IPC</th>\n",
       "      <td>0.048701</td>\n",
       "    </tr>\n",
       "    <tr>\n",
       "      <th>03-2 PLC</th>\n",
       "      <td>0.097521</td>\n",
       "    </tr>\n",
       "    <tr>\n",
       "      <th>03-3 CNC</th>\n",
       "      <td>0.145020</td>\n",
       "    </tr>\n",
       "    <tr>\n",
       "      <th>04- C&amp;S + Safety</th>\n",
       "      <td>0.008487</td>\n",
       "    </tr>\n",
       "    <tr>\n",
       "      <th>04- Sensors</th>\n",
       "      <td>0.000392</td>\n",
       "    </tr>\n",
       "  </tbody>\n",
       "</table>\n",
       "</div>"
      ],
      "text/plain": [
       "                                     Share\n",
       "Product                                   \n",
       "02-1 Motor Starters & Contactors  0.043126\n",
       "02-2 Drives LV                    0.055345\n",
       "02-3 Motion                       0.096426\n",
       "03-1 OP & IPC                     0.048701\n",
       "03-2 PLC                          0.097521\n",
       "03-3 CNC                          0.145020\n",
       "04- C&S + Safety                  0.008487\n",
       "04- Sensors                       0.000392"
      ]
     },
     "execution_count": 16,
     "metadata": {},
     "output_type": "execute_result"
    }
   ],
   "source": [
    "# Market Shares of ABB\n",
    "cpp.loc['ABB',:]"
   ]
  },
  {
   "cell_type": "code",
   "execution_count": 17,
   "metadata": {},
   "outputs": [
    {
     "data": {
      "text/plain": [
       "0.0431259130916086"
      ]
     },
     "execution_count": 17,
     "metadata": {},
     "output_type": "execute_result"
    }
   ],
   "source": [
    "# Market Share of ABB for 02-1 Motor Starters & Contactors\n",
    "float(cpp.loc[('ABB','02-1 Motor Starters & Contactors'),:])"
   ]
  },
  {
   "cell_type": "markdown",
   "metadata": {},
   "source": [
    "### classification by \"Product\" \"Competitor\""
   ]
  },
  {
   "cell_type": "code",
   "execution_count": 18,
   "metadata": {},
   "outputs": [],
   "source": [
    "ppc = cpp.swaplevel(0,1).sort_index()"
   ]
  },
  {
   "cell_type": "code",
   "execution_count": 19,
   "metadata": {},
   "outputs": [
    {
     "data": {
      "text/html": [
       "<div>\n",
       "<style scoped>\n",
       "    .dataframe tbody tr th:only-of-type {\n",
       "        vertical-align: middle;\n",
       "    }\n",
       "\n",
       "    .dataframe tbody tr th {\n",
       "        vertical-align: top;\n",
       "    }\n",
       "\n",
       "    .dataframe thead th {\n",
       "        text-align: right;\n",
       "    }\n",
       "</style>\n",
       "<table border=\"1\" class=\"dataframe\">\n",
       "  <thead>\n",
       "    <tr style=\"text-align: right;\">\n",
       "      <th></th>\n",
       "      <th></th>\n",
       "      <th>Share</th>\n",
       "    </tr>\n",
       "    <tr>\n",
       "      <th>Product</th>\n",
       "      <th>Competitor</th>\n",
       "      <th></th>\n",
       "    </tr>\n",
       "  </thead>\n",
       "  <tbody>\n",
       "    <tr>\n",
       "      <th rowspan=\"5\" valign=\"top\">01- Analyzers</th>\n",
       "      <th>CCI</th>\n",
       "      <td>0.027391</td>\n",
       "    </tr>\n",
       "    <tr>\n",
       "      <th>Contec</th>\n",
       "      <td>0.010073</td>\n",
       "    </tr>\n",
       "    <tr>\n",
       "      <th>FANUC</th>\n",
       "      <td>0.009594</td>\n",
       "    </tr>\n",
       "    <tr>\n",
       "      <th>Flowserve Flow Control Division</th>\n",
       "      <td>0.014429</td>\n",
       "    </tr>\n",
       "    <tr>\n",
       "      <th>Heidenhain</th>\n",
       "      <td>0.004543</td>\n",
       "    </tr>\n",
       "  </tbody>\n",
       "</table>\n",
       "</div>"
      ],
      "text/plain": [
       "                                                  Share\n",
       "Product       Competitor                               \n",
       "01- Analyzers CCI                              0.027391\n",
       "              Contec                           0.010073\n",
       "              FANUC                            0.009594\n",
       "              Flowserve Flow Control Division  0.014429\n",
       "              Heidenhain                       0.004543"
      ]
     },
     "execution_count": 19,
     "metadata": {},
     "output_type": "execute_result"
    }
   ],
   "source": [
    "ppc.head()"
   ]
  },
  {
   "cell_type": "markdown",
   "metadata": {},
   "source": [
    "What are the competitors market shares for the 02-1 Motor Starters & Contactors market?"
   ]
  },
  {
   "cell_type": "code",
   "execution_count": 20,
   "metadata": {},
   "outputs": [
    {
     "data": {
      "text/html": [
       "<div>\n",
       "<style scoped>\n",
       "    .dataframe tbody tr th:only-of-type {\n",
       "        vertical-align: middle;\n",
       "    }\n",
       "\n",
       "    .dataframe tbody tr th {\n",
       "        vertical-align: top;\n",
       "    }\n",
       "\n",
       "    .dataframe thead th {\n",
       "        text-align: right;\n",
       "    }\n",
       "</style>\n",
       "<table border=\"1\" class=\"dataframe\">\n",
       "  <thead>\n",
       "    <tr style=\"text-align: right;\">\n",
       "      <th></th>\n",
       "      <th>Share</th>\n",
       "    </tr>\n",
       "    <tr>\n",
       "      <th>Competitor</th>\n",
       "      <th></th>\n",
       "    </tr>\n",
       "  </thead>\n",
       "  <tbody>\n",
       "    <tr>\n",
       "      <th>ABB</th>\n",
       "      <td>0.043126</td>\n",
       "    </tr>\n",
       "    <tr>\n",
       "      <th>Banner</th>\n",
       "      <td>0.010595</td>\n",
       "    </tr>\n",
       "    <tr>\n",
       "      <th>DKK-TOA Corporation</th>\n",
       "      <td>0.005435</td>\n",
       "    </tr>\n",
       "    <tr>\n",
       "      <th>Danaher Industrial</th>\n",
       "      <td>0.003013</td>\n",
       "    </tr>\n",
       "    <tr>\n",
       "      <th>Festo</th>\n",
       "      <td>0.004544</td>\n",
       "    </tr>\n",
       "    <tr>\n",
       "      <th>Fuji Electric</th>\n",
       "      <td>0.007533</td>\n",
       "    </tr>\n",
       "    <tr>\n",
       "      <th>Heidenhain</th>\n",
       "      <td>0.181498</td>\n",
       "    </tr>\n",
       "    <tr>\n",
       "      <th>Hitachi</th>\n",
       "      <td>0.026385</td>\n",
       "    </tr>\n",
       "    <tr>\n",
       "      <th>Hyosung Power and Industrial S</th>\n",
       "      <td>0.067026</td>\n",
       "    </tr>\n",
       "    <tr>\n",
       "      <th>M-System</th>\n",
       "      <td>0.141931</td>\n",
       "    </tr>\n",
       "    <tr>\n",
       "      <th>Metso Automation</th>\n",
       "      <td>0.058089</td>\n",
       "    </tr>\n",
       "    <tr>\n",
       "      <th>Moore Industries</th>\n",
       "      <td>0.018853</td>\n",
       "    </tr>\n",
       "    <tr>\n",
       "      <th>Other</th>\n",
       "      <td>0.114310</td>\n",
       "    </tr>\n",
       "    <tr>\n",
       "      <th>Parker Industrial</th>\n",
       "      <td>0.098775</td>\n",
       "    </tr>\n",
       "    <tr>\n",
       "      <th>Pepperl+Fuchs</th>\n",
       "      <td>0.021855</td>\n",
       "    </tr>\n",
       "    <tr>\n",
       "      <th>Pilz</th>\n",
       "      <td>0.007564</td>\n",
       "    </tr>\n",
       "    <tr>\n",
       "      <th>Turck</th>\n",
       "      <td>0.180013</td>\n",
       "    </tr>\n",
       "    <tr>\n",
       "      <th>Weidmuller</th>\n",
       "      <td>0.009454</td>\n",
       "    </tr>\n",
       "  </tbody>\n",
       "</table>\n",
       "</div>"
      ],
      "text/plain": [
       "                                   Share\n",
       "Competitor                              \n",
       "ABB                             0.043126\n",
       "Banner                          0.010595\n",
       "DKK-TOA Corporation             0.005435\n",
       "Danaher Industrial              0.003013\n",
       "Festo                           0.004544\n",
       "Fuji Electric                   0.007533\n",
       "Heidenhain                      0.181498\n",
       "Hitachi                         0.026385\n",
       "Hyosung Power and Industrial S  0.067026\n",
       "M-System                        0.141931\n",
       "Metso Automation                0.058089\n",
       "Moore Industries                0.018853\n",
       "Other                           0.114310\n",
       "Parker Industrial               0.098775\n",
       "Pepperl+Fuchs                   0.021855\n",
       "Pilz                            0.007564\n",
       "Turck                           0.180013\n",
       "Weidmuller                      0.009454"
      ]
     },
     "execution_count": 20,
     "metadata": {},
     "output_type": "execute_result"
    }
   ],
   "source": [
    "ppc.loc['02-1 Motor Starters & Contactors']"
   ]
  },
  {
   "cell_type": "markdown",
   "metadata": {},
   "source": [
    "# Making the graphic"
   ]
  },
  {
   "cell_type": "markdown",
   "metadata": {},
   "source": [
    "## Using matplotlib graphing package"
   ]
  },
  {
   "cell_type": "code",
   "execution_count": 21,
   "metadata": {},
   "outputs": [],
   "source": [
    "def marimekko(ssmarkets,ccsss,lowshare,drawshare,marketshare,height,width,showther,marketsize):\n",
    "    x=0\n",
    "    y=0\n",
    "    print(f\"{float(marketsize):,.0f}\")\n",
    "    fig,ax = plt.subplots(1,figsize=(width,height))\n",
    "    ax.axis([0, 1, 0, 1])\n",
    "    ax.axis('off')\n",
    "    marketcount=0\n",
    "\n",
    "    for market in ssmarkets.index:\n",
    "        h = float(ssmarkets.loc[market])\n",
    "        #print(f\"height'{market}':{h:.0f}\")\n",
    "        competitors = ccsss.loc[market].sort_values(by=['Share'],ascending=False)\n",
    "        x=0\n",
    "        other = 0.0\n",
    "        count=0\n",
    "        first = True\n",
    "        ccompetitor=0\n",
    "        for competitor in competitors.index:\n",
    "            if ccompetitor == 0:\n",
    "                marketboxtext = TextArea(f\"{market} ({h*100:.0f}%)\", minimumdescent=False)\n",
    "                ab = AnnotationBbox(marketboxtext, (x,y),\n",
    "                                    xybox=(x,y),\n",
    "                                    box_alignment=(0., -0.2))\n",
    "                ax.add_artist(ab)\n",
    "            if competitor != 'Other':\n",
    "                w = float(ccsss.loc[market].loc[competitor])\n",
    "                if (w >=lowshare):\n",
    "                    #print(f\"  width {competitor}:{w:.0f}\")\n",
    "                    #print(f\"({w},{h})\")\n",
    "                    if marketcount > 0: #< (len(ssmarkets.index)-1):\n",
    "                        rect = patches.Rectangle((x,y),w,h,linewidth=1,edgecolor='k',facecolor='none')\n",
    "                    else:\n",
    "                        rect = patches.Rectangle((x,y),w,h,linewidth=2,edgecolor='k',facecolor='none')\n",
    "                    ax.add_patch(rect)\n",
    "                    rx, ry = rect.get_xy()\n",
    "                    cx = rx + rect.get_width()/2.0\n",
    "                    cy = ry + rect.get_height()/2.0\n",
    "                    if h>=marketshare:\n",
    "                        if w<=drawshare:\n",
    "                            if first:\n",
    "                                if ccompetitor==0:\n",
    "                                    count=0\n",
    "                                else:\n",
    "                                    count=1\n",
    "                                first=False                    \n",
    "                            if count % 2 == 1:\n",
    "                                ax.annotate(f\"{competitor}\", (rx+0.005, ry+rect.get_height()*0.9), fontsize=8, ha='left', va='top')\n",
    "                            else:\n",
    "                                ax.annotate(f\"{competitor}\", (rx+0.005, ry+rect.get_height()*0.2), fontsize=8, ha='left', va='top')\n",
    "                            count += 1                    \n",
    "                        else:        \n",
    "                            ax.annotate(f\"{competitor}\", (rx+0.005, ry+rect.get_height()*0.9), fontsize=8, ha='left', va='top')\n",
    "                        ax.annotate(f\"{w*100:.0f}%\", (cx, cy), weight='bold', fontsize=8, ha='center', va='center')\n",
    "                    x += w\n",
    "                else:\n",
    "                    other += w\n",
    "            else:\n",
    "                other += float(ccsss.loc[market].loc['Other'])\n",
    "            ccompetitor +=1\n",
    "                \n",
    "        #print(x,y)\n",
    "        if marketcount > 0:\n",
    "            rect = patches.Rectangle((x,y),other-0.001,h,linewidth=1,edgecolor='k',facecolor='none')\n",
    "        else:\n",
    "            rect = patches.Rectangle((x,y),other,h,linewidth=2,edgecolor='k',facecolor='none')\n",
    "        ax.add_patch(rect)\n",
    "        rx, ry = rect.get_xy()\n",
    "        cx = rx + rect.get_width()/2.0\n",
    "        cy = ry + rect.get_height()/2.0\n",
    "        if h>=marketshare:\n",
    "            if first:\n",
    "                count=0\n",
    "                first = False\n",
    "            if showther:\n",
    "                if count % 2 == 1:\n",
    "                    ax.annotate(f\"Others\", (rx+rect.get_width()/1.2, ry+rect.get_height()*0.9), fontsize=8, ha='left', va='top')\n",
    "                else:\n",
    "                    ax.annotate(f\"Others\", (rx+rect.get_width()/1.2, ry+rect.get_height()*0.2), fontsize=8, ha='left', va='top')\n",
    "            ax.annotate(f\"{other*100:.0f}%\", (cx, cy), weight='bold', fontsize=8, ha='center', va='center')\n",
    "        y += h\n",
    "        marketcount += 1\n",
    "\n",
    "    plt.show()"
   ]
  },
  {
   "cell_type": "code",
   "execution_count": 22,
   "metadata": {
    "scrolled": false
   },
   "outputs": [
    {
     "name": "stdout",
     "output_type": "stream",
     "text": [
      "104,992\n"
     ]
    },
    {
     "data": {
      "image/png": "[encoded data removed]",
      "text/plain": [
       "<Figure size 1440x720 with 1 Axes>"
      ]
     },
     "metadata": {
      "needs_background": "light"
     },
     "output_type": "display_data"
    }
   ],
   "source": [
    "height = 10\n",
    "width = 20\n",
    "lowshare = 0.03\n",
    "drawshare = 0.1\n",
    "marketshare=0.05\n",
    "showther=False\n",
    "marimekko(pMarkets,ppc,lowshare,drawshare,marketshare,height,width,showther,marketsize)"
   ]
  },
  {
   "cell_type": "markdown",
   "metadata": {},
   "source": [
    "## Using python-pptx"
   ]
  },
  {
   "cell_type": "markdown",
   "metadata": {},
   "source": [
    "Python-pptx is a library allowing to generate Microsoft PowerPoint compatible files.\n",
    "\n",
    "The library documentation is [here](https://python-pptx.readthedocs.io/en/latest/index.html)\n",
    "\n",
    "This library is not necessarly installed, using the cell after next cell command, one can install it if not done already\n",
    "To check if installed and version, just try next cell command.\n",
    "\n",
    "If not installed, don't forget to load it after install"
   ]
  },
  {
   "cell_type": "code",
   "execution_count": 23,
   "metadata": {},
   "outputs": [
    {
     "name": "stdout",
     "output_type": "stream",
     "text": [
      "0.6.18\n"
     ]
    }
   ],
   "source": [
    "import pptx\n",
    "print(pptx.__version__)"
   ]
  },
  {
   "cell_type": "code",
   "execution_count": 24,
   "metadata": {},
   "outputs": [
    {
     "name": "stdout",
     "output_type": "stream",
     "text": [
      "Collecting package metadata (current_repodata.json): done\n",
      "Solving environment: done\n",
      "\n",
      "\n",
      "==> WARNING: A newer version of conda exists. <==\n",
      "  current version: 4.7.10\n",
      "  latest version: 4.7.11\n",
      "\n",
      "Please update conda by running\n",
      "\n",
      "    $ conda update -n base conda\n",
      "\n",
      "\n",
      "\n",
      "# All requested packages already installed.\n",
      "\n"
     ]
    }
   ],
   "source": [
    "!conda install -y python-pptx"
   ]
  },
  {
   "cell_type": "code",
   "execution_count": 25,
   "metadata": {},
   "outputs": [],
   "source": [
    "from pptx import Presentation\n",
    "from pptx.enum.shapes import MSO_SHAPE\n",
    "from pptx.util import Inches\n",
    "from pptx.enum.text import MSO_AUTO_SIZE\n",
    "from pptx.util import Pt\n",
    "from pptx.dml.color import RGBColor\n",
    "from pptx.enum.dml import MSO_THEME_COLOR"
   ]
  },
  {
   "cell_type": "code",
   "execution_count": 26,
   "metadata": {},
   "outputs": [],
   "source": [
    "def rectangle(shapes,offset,sx,sy,sw,sh,text):\n",
    "    #print(f\"x:{sx:.2f}|y:{sy-sh:.2f}|w:{sw:.2f}|h:{sh:.2f}\")\n",
    "    isx = Inches((sx+offset)/2.54)\n",
    "    isy = Inches((sy-sh)/2.54)\n",
    "    isw = Inches(sw/2.54)\n",
    "    ish = Inches(sh/2.54)\n",
    "    # isx,isy is the top left corner of the rectangle\n",
    "    shape = shapes.add_shape(MSO_SHAPE.RECTANGLE,isx,isy,isw,ish)\n",
    "    shape.fill.background()\n",
    "    text_frame = shape.text_frame\n",
    "    text_frame.margin_left=Inches(0.0) \n",
    "    text_frame.margin_right=Inches(0.0) \n",
    "    text_frame.margin_top=Inches(0.0)\n",
    "    text_frame.margin_bottom=Inches(0.0)\n",
    "    text_frame.word_wrap = True\n",
    "    text_frame.auto_size = MSO_AUTO_SIZE.TEXT_TO_FIT_SHAPE                \n",
    "    p = text_frame.paragraphs[0]\n",
    "    run = p.add_run()\n",
    "    run.text = text\n",
    "    font = run.font\n",
    "    font.name = 'Calibri'\n",
    "    font.size = Pt(8)\n",
    "    font.bold = True\n",
    "    font.italic = None  # cause value to be inherited from theme\n",
    "    font.color.theme_color = MSO_THEME_COLOR.ACCENT_1\n",
    "    return (run,font)\n",
    "    \n",
    "def marimekkopptx(ssmarkets,ccsss,lowshare,drawshare,marketshare,height,width,showther,marketsize):\n",
    "    prs = Presentation()\n",
    "    title_only_slide_layout = prs.slide_layouts[5]\n",
    "    slide = prs.slides.add_slide(title_only_slide_layout)\n",
    "    shapes = slide.shapes\n",
    "\n",
    "    shapes.title.text = f\"Market Size = {float(marketsize):,.0f}\"\n",
    "    \n",
    "    x0 = 1.0\n",
    "    y0 = 17.0\n",
    "    owidth = 3.0\n",
    "\n",
    "    x=0\n",
    "    y=0\n",
    "    marketcount=0\n",
    "\n",
    "    for market in ssmarkets.index:\n",
    "        h = float(ssmarkets.loc[market])\n",
    "        #print(f\"height'{market}':{h:.0f}\")\n",
    "        competitors = ccsss.loc[market].sort_values(by=['Share'],ascending=False)\n",
    "        x=0\n",
    "        other = 0.0\n",
    "        count=0\n",
    "        first = True\n",
    "        ccompetitor=0\n",
    "        for competitor in competitors.index:\n",
    "            if ccompetitor == 0:\n",
    "                # print market label\n",
    "                sx = (x*width+x0)\n",
    "                sy = (y0-(y*height))\n",
    "                sw = owidth\n",
    "                sh = (h*height)\n",
    "                run,font = rectangle(shapes,0,sx,sy,sw,sh,f\"{market} ({h*100:.0f}%)\")\n",
    "            if competitor != 'Other':\n",
    "                w = float(ccsss.loc[market].loc[competitor])\n",
    "                if (w >=lowshare):\n",
    "                    #print(f\"  width {competitor}:{w:.0f}\")\n",
    "                    #print(f\"({w},{h})\")\n",
    "                    # create the rectangle\n",
    "                    sx = (x*width+x0)\n",
    "                    sy = (y0-(y*height))\n",
    "                    sw = (w*width)\n",
    "                    sh = (h*height)\n",
    "                    run,font = rectangle(shapes,owidth,sx,sy,sw,sh,\"\")\n",
    "                    if w<=drawshare:\n",
    "                        run.text = f\"{competitor[:5]} ({w*100:.0f}%)\"\n",
    "                        if h >= marketshare:\n",
    "                            font.size = Pt(6)\n",
    "                        else:\n",
    "                            font.size = Pt(4)\n",
    "                    else:\n",
    "                        run.text = f\"{competitor} ({w*100:.0f}%)\"\n",
    "                        if h >= marketshare:\n",
    "                            font.size = Pt(8)\n",
    "                        else:\n",
    "                            font.size = Pt(6)\n",
    "                    x += w\n",
    "                else:\n",
    "                    other += w\n",
    "            else:\n",
    "                other += float(ccsss.loc[market].loc['Other'])\n",
    "            ccompetitor +=1\n",
    "                \n",
    "        #print(x,y)\n",
    "        w=other\n",
    "        sx = (x*width+x0)\n",
    "        sy = (y0-(y*height))\n",
    "        sw = (w*width)\n",
    "        sh = (h*height)\n",
    "        run,font = rectangle(shapes,owidth,sx,sy,sw,sh,\"\")\n",
    "        if w<=drawshare:\n",
    "            run.text = f\"({w*100:.0f}%)\"\n",
    "            if h >= marketshare:\n",
    "                font.size = Pt(6)\n",
    "            else:\n",
    "                font.size = Pt(4)\n",
    "        else:\n",
    "            run.text = f\"({w*100:.0f}%)\"\n",
    "            if h >= marketshare:\n",
    "                font.size = Pt(8)\n",
    "            else:\n",
    "                font.size = Pt(6)\n",
    "        y += h\n",
    "        marketcount += 1\n",
    "\n",
    "    return prs"
   ]
  },
  {
   "cell_type": "markdown",
   "metadata": {},
   "source": [
    "## Just call the marimekkopptx function to create a Powerpoint Slide with\n",
    "- height = the height of the marimekko area in cm\n",
    "- width = the width of the marimekko area in cm\n",
    "- lowshare = in % (1% = 0.01) under this share no competitor is shown\n",
    "- drawshare = in % bellow this share, the font is getting smaller\n",
    "- marketshare = in % if a market is less than marketshare of total market, font is getting smaller\n",
    "\n",
    "You can change the name and location of the output file (PowerPoint compatible). use your local PowerPoint software application to read the file after downloading it to your computer."
   ]
  },
  {
   "cell_type": "code",
   "execution_count": 27,
   "metadata": {},
   "outputs": [],
   "source": [
    "height = 12.0\n",
    "width = 20.0\n",
    "lowshare = 0.03\n",
    "drawshare = 0.1\n",
    "marketshare=0.05\n",
    "showther=False\n",
    "prs = marimekkopptx(pMarkets,ppc,lowshare,drawshare,marketshare,height,width,showther,marketsize)\n",
    "prs.save(\"marimekko.pptx\")"
   ]
  },
  {
   "cell_type": "code",
   "execution_count": null,
   "metadata": {},
   "outputs": [],
   "source": []
  }
 ],
 "metadata": {
  "kernelspec": {
   "display_name": "Python 3",
   "language": "python",
   "name": "python3"
  },
  "language_info": {
   "codemirror_mode": {
    "name": "ipython",
    "version": 3
   },
   "file_extension": ".py",
   "mimetype": "text/x-python",
   "name": "python",
   "nbconvert_exporter": "python",
   "pygments_lexer": "ipython3",
   "version": "3.7.3"
  }
 },
 "nbformat": 4,
 "nbformat_minor": 2
}
